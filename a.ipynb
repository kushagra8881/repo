{
 "cells": [
  {
   "cell_type": "code",
   "execution_count": 3,
   "metadata": {},
   "outputs": [
    {
     "name": "stdout",
     "output_type": "stream",
     "text": [
      "Shortest path from node 1 to node 10 : ['1', '2', '5', '8', '10']\n",
      "Cost: 21\n"
     ]
    }
   ],
   "source": [
    "import heapq\n",
    "\n",
    "def dijkstra(graph, start, end):\n",
    "    distances = {node: float('inf') for node in graph}\n",
    "    distances[start] = 0\n",
    "    queue = [(0, start)]\n",
    "    visited = set()\n",
    "\n",
    "    while queue:\n",
    "        current_distance, current_node = heapq.heappop(queue)\n",
    "\n",
    "        if current_node in visited:\n",
    "            continue\n",
    "        visited.add(current_node)\n",
    "\n",
    "        if current_node == end:\n",
    "            break\n",
    "\n",
    "        for neighbor, weight in graph[current_node].items():\n",
    "            distance = current_distance + weight\n",
    "            if distance < distances[neighbor]:\n",
    "                distances[neighbor] = distance\n",
    "                heapq.heappush(queue, (distance, neighbor))\n",
    "\n",
    "    path = []\n",
    "    current_node = end\n",
    "    while current_node != start:\n",
    "        path.insert(0, current_node)\n",
    "        for neighbor, weight in graph[current_node].items():\n",
    "            if distances[current_node] == distances[neighbor] + weight:\n",
    "                current_node = neighbor\n",
    "                break\n",
    "    path.insert(0, start)\n",
    "    return path, distances[end]\n",
    "\n",
    "# Define the graph\n",
    "graph = {\n",
    "    '1': {'2': 5, '3': 5, '4': 6},\n",
    "    '2': {'1': 5, '5': 4, '6': 7, '7': 8},\n",
    "    '3': {'1': 5, '5': 8, '6': 10, '7': 5},\n",
    "    '4': {'1': 6, '5': 5, '6': 5, '7': 4},\n",
    "    '5': {'2': 4, '3': 8, '4': 5, '8': 7},\n",
    "    '6': {'2': 7, '3': 10, '4': 5, '8': 5, '9': 8},\n",
    "    '7': {'2': 8, '3': 5, '4': 4, '9': 5},\n",
    "    '8': {'5': 7, '6': 5, '9': 7, '10': 5},\n",
    "    '9': {'8': 7, '6': 8, '7': 5, '10': 6},\n",
    "    '10': {'8': 5, '9': 6}\n",
    "}\n",
    "\n",
    "# Define start and end nodes\n",
    "start_node = '1'\n",
    "end_node = '10'\n",
    "\n",
    "# Find the shortest path and its cost\n",
    "path, cost = dijkstra(graph, start_node, end_node)\n",
    "print(\"Shortest path from node\", start_node, \"to node\", end_node, \":\", path)\n",
    "print(\"Cost:\", cost)\n"
   ]
  }
 ],
 "metadata": {
  "kernelspec": {
   "display_name": ".venv",
   "language": "python",
   "name": "python3"
  },
  "language_info": {
   "codemirror_mode": {
    "name": "ipython",
    "version": 3
   },
   "file_extension": ".py",
   "mimetype": "text/x-python",
   "name": "python",
   "nbconvert_exporter": "python",
   "pygments_lexer": "ipython3",
   "version": "3.11.8"
  }
 },
 "nbformat": 4,
 "nbformat_minor": 2
}
